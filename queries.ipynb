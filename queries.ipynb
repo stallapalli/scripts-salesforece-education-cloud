{
 "cells": [
  {
   "cell_type": "code",
   "execution_count": 2,
   "id": "4ea1bc2d",
   "metadata": {
    "polyglot_notebook": {
     "kernelName": "powershell"
    },
    "vscode": {
     "languageId": "polyglot-notebook"
    }
   },
   "outputs": [
    {
     "name": "stdout",
     "output_type": "stream",
     "text": [
      "┌────────────────────┬──────────────┐\n",
      "│ ID                 │ NAME         │\n",
      "├────────────────────┼──────────────┤\n",
      "│ a1rD4000001K9CuIAK │ A-0000006455 │\n",
      "└────────────────────┴──────────────┘\n",
      "\n",
      "Total number of records retrieved: 1.\n",
      "\u001b[31;1mQuerying Data... done\u001b[0m\n"
     ]
    }
   ],
   "source": [
    "sf data query --query \"SELECT Id, Name FROM Scholarship_Award__c LIMIT 1\" --target-org TCSValidate\n"
   ]
  },
  {
   "cell_type": "code",
   "execution_count": null,
   "id": "c0eeae9d",
   "metadata": {
    "vscode": {
     "languageId": "polyglot-notebook"
    }
   },
   "outputs": [],
   "source": []
  }
 ],
 "metadata": {
  "kernelspec": {
   "display_name": ".NET (C#)",
   "language": "C#",
   "name": ".net-csharp"
  },
  "language_info": {
   "file_extension": ".ps1",
   "mimetype": "text/x-powershell",
   "name": "PowerShell",
   "pygments_lexer": "powershell",
   "version": "7.5"
  },
  "polyglot_notebook": {
   "kernelInfo": {
    "defaultKernelName": "powershell",
    "items": [
     {
      "aliases": [],
      "name": "powershell"
     }
    ]
   }
  }
 },
 "nbformat": 4,
 "nbformat_minor": 5
}
