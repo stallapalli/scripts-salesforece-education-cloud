{
 "cells": [
  {
   "cell_type": "code",
   "execution_count": 37,
   "metadata": {},
   "outputs": [
    {
     "name": "stdout",
     "output_type": "stream",
     "text": [
      "Directory already exists: Purge\n",
      " »   Warning: @salesforce/cli update available from 2.82.6 to 2.84.6.\n",
      "Found Id: 001D400000v2ihaIAA\n"
     ]
    }
   ],
   "source": [
    "$target = 'TCSValidate'\n",
    "$institution = 'University of Western States'\n",
    "# Set the encoding to UTF-8 for the sf cli responses\n",
    "[Console]::OutputEncoding = [System.Text.Encoding]::UTF8\n",
    "\n",
    "Set-Location -Path (Get-Location)\n",
    "$path = \"Purge\"\n",
    "if (-not (Test-Path -Path $path)) {\n",
    "    New-Item -Path $path -ItemType Directory | Out-Null\n",
    "    Write-Host \"Directory created: $path\"\n",
    "} else {\n",
    "    Write-Host \"Directory already exists: $path\"\n",
    "}\n",
    "\n",
    "\n",
    "# Run the sf data query and capture the institution AccountID\n",
    "$records = sf data query -q \"SELECT Id FROM Account WHERE Name='$institution' AND Type='Partner'\" --target-org $target --json | ConvertFrom-Json\n",
    "$insAccountID= $records.result.records[0].Id\n",
    "Write-Host \"Found Id: $insAccountID\"\n"
   ]
  },
  {
   "cell_type": "markdown",
   "metadata": {},
   "source": [
    "### Record Purge\n",
    "\n",
    "Purges records from the target instance, in opposite order of the dependency tree.\n",
    "Indiscremenately purges all records of the specified type, regardless of the state of the record.\n",
    "\n",
    "#### SObjects\n",
    "- Account\n",
    "- Location\n",
    "- Address\n",
    "- Learning\n",
    "- LearningProgram\n",
    "- Academic Term\n",
    "- ProgramTermApplnTimeline\n",
    "- Scholarship__c\n",
    "- IndividualApplication\n",
    "- Opportunity\n",
    "- Scholarship_Award__c\n",
    "- Task\n",
    "- Event"
   ]
  },
  {
   "cell_type": "code",
   "execution_count": 14,
   "metadata": {},
   "outputs": [
    {
     "name": "stdout",
     "output_type": "stream",
     "text": [
      " »   Warning: @salesforce/cli update available from 2.82.6 to 2.84.6.\n",
      "No IDs found.\n"
     ]
    }
   ],
   "source": [
    "#Delete Events \n",
    "$predicate = \" accountId in(SELECT Id FROM Account where School__c='$institution')\"\n",
    "sf data query -q \"SELECT Id FROM Event   WHERE $predicate\" --target-org $target --json | Out-File -FilePath Purge\\Event.json -Encoding UTF8\n",
    "$records = Get-Content -Raw -Path Purge\\Event.json | ConvertFrom-Json\n",
    "\n",
    "$ids = $records.result.records  | Select-Object -ExpandProperty Id\n",
    "if (-not $ids) {\n",
    "    Write-Host \"Events - No IDs found.\"\n",
    "    return\n",
    "} \n",
    "\n",
    "$ids | ForEach-Object { [PSCustomObject]@{ Id = $_ } } | Export-Csv -Path Purge\\Event.csv -NoTypeInformation\n",
    "sf data delete bulk --sobject \"Event\" --file Purge\\Event.csv --target-org $target --json --wait 15 | Out-File -FilePath Purge\\DeletedEvent.json -Encoding UTF8\n",
    " "
   ]
  },
  {
   "cell_type": "code",
   "execution_count": 15,
   "metadata": {},
   "outputs": [
    {
     "name": "stdout",
     "output_type": "stream",
     "text": [
      " »   Warning: @salesforce/cli update available from 2.82.6 to 2.84.6.\n",
      "Tasks - No IDs found.\n"
     ]
    }
   ],
   "source": [
    "#Delete Tasks \n",
    "$predicate = \" accountId in(SELECT Id FROM Account where School__c='$institution')\"\n",
    "sf data query -q \"SELECT Id FROM Task   WHERE $predicate\" --target-org $target --json | Out-File -FilePath Purge\\Task.json -Encoding UTF8\n",
    "$records = Get-Content -Raw -Path Purge\\Task.json | ConvertFrom-Json\n",
    "$ids = $records.result.records  | Select-Object -ExpandProperty Id\n",
    "if (-not $ids) {\n",
    "    Write-Host \"Tasks - No IDs found.\"\n",
    "    return\n",
    "} \n",
    "$ids | ForEach-Object { [PSCustomObject]@{ Id = $_ } } | Export-Csv -Path Purge\\Task.csv -NoTypeInformation\n",
    "sf data delete bulk --sobject \"Task\" --file Purge\\Task.csv --target-org $target --json --wait 15 | Out-File -FilePath Purge\\DeletedTask.json -Encoding UTF8"
   ]
  },
  {
   "cell_type": "code",
   "execution_count": 16,
   "metadata": {},
   "outputs": [
    {
     "name": "stdout",
     "output_type": "stream",
     "text": [
      " »   Warning: @salesforce/cli update available from 2.82.6 to 2.84.6.\n",
      "Scholarship_Award__c - No IDs found.\n"
     ]
    }
   ],
   "source": [
    "#Delete Scholarship_Award__c \n",
    "$predicate = \" Award_Institution__c='$institution'\"\n",
    "sf data query -q \"SELECT Id FROM Scholarship_Award__c  WHERE $predicate\" --target-org $target --json | Out-File -FilePath Purge\\Scholarship_Award__c.json -Encoding UTF8\n",
    "$records = Get-Content -Raw -Path Purge\\Scholarship_Award__c.json | ConvertFrom-Json\n",
    "$ids = $records.result.records  | Select-Object -ExpandProperty Id\n",
    "if (-not $ids) {\n",
    "    Write-Host \"Scholarship_Award__c - No IDs found.\"\n",
    "    return\n",
    "} \n",
    "$ids | ForEach-Object { [PSCustomObject]@{ Id = $_ } } | Export-Csv -Path Purge\\Scholarship_Award__c.csv -NoTypeInformation\n",
    "sf data delete bulk --sobject \"Scholarship_Award__c\" --file Purge\\OpportScholarship_Award__cunity.csv --target-org $target --json --wait 15 | Out-File -FilePath Purge\\DeletedScholarship_Award__c.json -Encoding UTF8"
   ]
  },
  {
   "cell_type": "code",
   "execution_count": 17,
   "metadata": {},
   "outputs": [
    {
     "name": "stdout",
     "output_type": "stream",
     "text": [
      ". {\n",
      ">> #Delete Opportunity \n",
      ">> $predicate = \" account.School__c='$institution'\"\n",
      ">> sf data query -q \"SELECT Id FROM Opportunity   WHERE $predicate\" --target-org $target --json | Out-File -FilePath Purge\\Opportunity.json -Encoding UTF8\n",
      ">> $records = Get-Content -Raw -Path Purge\\Opportunity.json | ConvertFrom-Json\n",
      ">> $ids = $records.result.records  | Select-Object -ExpandProperty Id\n",
      ">> if (-not $ids) {\n",
      ">>     Write-Host \"Opportunity - No IDs found.\"\n",
      ">>     return\n",
      ">> } \n",
      ">> $ids | ForEach-Object { [PSCustomObject]@{ Id = $_ } } | Export-Csv -Path Purge\\Opportunity.csv -NoTypeInformation\n",
      ">> sf data delete bulk --sobject \"Opportunity\" --file Purge\\Opportunity.csv --target-org $target --json --wait 15 | Out-File -FilePath Purge\\DeletedOpportunity.json -Encoding UTF8\n",
      ">> }\n",
      ">> \n",
      " »   Warning: @salesforce/cli update available from 2.82.6 to 2.84.6.\n",
      "Opportunity - No IDs found.\n"
     ]
    }
   ],
   "source": [
    "#Delete Opportunity \n",
    "$predicate = \" account.School__c='$institution'\"\n",
    "sf data query -q \"SELECT Id FROM Opportunity   WHERE $predicate\" --target-org $target --json | Out-File -FilePath Purge\\Opportunity.json -Encoding UTF8\n",
    "$records = Get-Content -Raw -Path Purge\\Opportunity.json | ConvertFrom-Json\n",
    "$ids = $records.result.records  | Select-Object -ExpandProperty Id\n",
    "if (-not $ids) {\n",
    "    Write-Host \"Opportunity - No IDs found.\"\n",
    "    return\n",
    "} \n",
    "$ids | ForEach-Object { [PSCustomObject]@{ Id = $_ } } | Export-Csv -Path Purge\\Opportunity.csv -NoTypeInformation\n",
    "sf data delete bulk --sobject \"Opportunity\" --file Purge\\Opportunity.csv --target-org $target --json --wait 15 | Out-File -FilePath Purge\\DeletedOpportunity.json -Encoding UTF8"
   ]
  },
  {
   "cell_type": "code",
   "execution_count": 18,
   "metadata": {},
   "outputs": [
    {
     "name": "stdout",
     "output_type": "stream",
     "text": [
      " »   Warning: @salesforce/cli update available from 2.82.6 to 2.84.6.\n",
      "IndividualApplication - No IDs found.\n"
     ]
    }
   ],
   "source": [
    "#Delete IndividualApplication\n",
    "$predicate = \" OpportunityId IN (SELECT Id FROM Opportunity where account.School__c='$institution')\"\n",
    "sf data query -q \"SELECT Id FROM IndividualApplication  WHERE $predicate\" --target-org $target --json | Out-File -FilePath Purge\\IndividualApplication.json -Encoding UTF8\n",
    "$records = Get-Content -Raw -Path Purge\\IndividualApplication.json | ConvertFrom-Json\n",
    "$ids = $records.result.records  | Select-Object -ExpandProperty Id\n",
    "if (-not $ids) {\n",
    "    Write-Host \"IndividualApplication - No IDs found.\"\n",
    "    return\n",
    "} \n",
    "$ids | ForEach-Object { [PSCustomObject]@{ Id = $_ } } | Export-Csv -Path Purge\\IndividualApplication.csv -NoTypeInformation\n",
    "sf data delete bulk --sobject \"IndividualApplication\" --file Purge\\IndividualApplication.csv --target-org $target --json --wait 15 | Out-File -FilePath Purge\\DeletedIndividualApplication.json -Encoding UTF8"
   ]
  },
  {
   "cell_type": "code",
   "execution_count": 19,
   "metadata": {},
   "outputs": [
    {
     "name": "stdout",
     "output_type": "stream",
     "text": [
      " »   Warning: @salesforce/cli update available from 2.82.6 to 2.84.6.\n",
      "Scholarship__c - No IDs found.\n"
     ]
    }
   ],
   "source": [
    "#Delete Scholarship__c\n",
    "$predicate = \" School_Name__c='$institution'\"\n",
    "sf data query -q \"SELECT Id FROM Scholarship__c  WHERE $predicate\" --target-org $target --json | Out-File -FilePath Purge\\Scholarship__c.json -Encoding UTF8\n",
    "$records = Get-Content -Raw -Path Purge\\Scholarship__c.json | ConvertFrom-Json\n",
    "$ids = $records.result.records  | Select-Object -ExpandProperty Id\n",
    "if (-not $ids) {\n",
    "    Write-Host \"Scholarship__c - No IDs found.\"\n",
    "    return\n",
    "} \n",
    "$ids | ForEach-Object { [PSCustomObject]@{ Id = $_ } } | Export-Csv -Path Purge\\Scholarship__c.csv -NoTypeInformation\n",
    "sf data delete bulk --sobject \"Scholarship__c\" --file Purge\\Scholarship__c.csv --target-org $target --json --wait 15 | Out-File -FilePath Purge\\DeletedScholarship__c.json -Encoding UTF8"
   ]
  },
  {
   "cell_type": "code",
   "execution_count": null,
   "metadata": {},
   "outputs": [],
   "source": [
    "#Delete ProgramTermApplnTimeline\n",
    "$predicate = \" Provider_Name__c='$institution'\"\n",
    "sf data query -q \"SELECT Id FROM ProgramTermApplnTimeline  WHERE $predicate\" --target-org $target --json | Out-File -FilePath Purge\\ProgramTermApplnTimeline.json -Encoding UTF8\n",
    "$records = Get-Content -Raw -Path Purge\\ProgramTermApplnTimeline.json | ConvertFrom-Json\n",
    "$ids = $records.result.records  | Select-Object -ExpandProperty Id\n",
    "if (-not $ids) {\n",
    "    Write-Host \"ProgramTermApplnTimeline - No IDs found.\"\n",
    "    return\n",
    "} \n",
    "$ids | ForEach-Object { [PSCustomObject]@{ Id = $_ } } | Export-Csv -Path Purge\\ProgramTermApplnTimeline.csv -NoTypeInformation\n",
    "sf data delete bulk --sobject \"ProgramTermApplnTimeline\" --file Purge\\ProgramTermApplnTimeline.csv --target-org $target --json --wait 15 | Out-File -FilePath Purge\\DeletedProgramTermApplnTimeline.json -Encoding UTF8"
   ]
  },
  {
   "cell_type": "code",
   "execution_count": null,
   "metadata": {},
   "outputs": [],
   "source": [
    "#Delete AcademicTerm\n",
    "\n",
    "sf data query -q \"select Id FROM AcademicTerm where Institution__c='$insAccountID'\" --target-org $target --json | Out-File -FilePath Purge\\AcademicTerm.json -Encoding UTF8\n",
    "$records = Get-Content -Raw -Path Purge\\AcademicTerm.json | ConvertFrom-Json\n",
    "$ids = $records.result.records  | Select-Object -ExpandProperty Id\n",
    "if (-not $ids) {\n",
    "    Write-Host \"AcademicTerm - No IDs found.\"\n",
    "    return\n",
    "} \n",
    "$ids | ForEach-Object { [PSCustomObject]@{ Id = $_ } } | Export-Csv -Path Purge\\AcademicTerm.csv -NoTypeInformation\n",
    "sf data delete bulk --sobject \"AcademicTerm\" --file Purge\\AcademicTerm.csv --target-org $target --json --wait 15 | Out-File -FilePath Purge\\DeletedAcademicTerm.json -Encoding UTF8\n"
   ]
  },
  {
   "cell_type": "code",
   "execution_count": null,
   "metadata": {},
   "outputs": [],
   "source": [
    "#Delete LearningProgram\n",
    "$predicate = \" Provider_Name__c='$institution'\"\n",
    "sf data query -q \"SELECT Id FROM LearningProgram  WHERE $predicate\" --target-org $target --json | Out-File -FilePath Purge\\LearningProgram.json -Encoding UTF8\n",
    "$records = Get-Content -Raw -Path Purge\\LearningProgram.json | ConvertFrom-Json\n",
    "$ids = $records.result.records  | Select-Object -ExpandProperty Id\n",
    "if (-not $ids) {\n",
    "    Write-Host \"LearningProgram - No IDs found.\"\n",
    "    return\n",
    "} \n",
    "$ids | ForEach-Object { [PSCustomObject]@{ Id = $_ } } | Export-Csv -Path Purge\\LearningProgram.csv -NoTypeInformation\n",
    "sf data delete bulk --sobject \"LearningProgram\" --file Purge\\LearningProgram.csv --target-org $target --json --wait 15 | Out-File -FilePath Purge\\LearningProgram.json -Encoding UTF8"
   ]
  },
  {
   "cell_type": "code",
   "execution_count": null,
   "metadata": {},
   "outputs": [],
   "source": [
    "#Delete Learning\n",
    "\n",
    "sf data query -q \"select Id FROM Learning where ProviderId='$insAccountID'\" --target-org $target --json | Out-File -FilePath Purge\\Learning.json -Encoding UTF8\n",
    "$records = Get-Content -Raw -Path Purge\\Learning.json | ConvertFrom-Json\n",
    "$ids = $records.result.records  | Select-Object -ExpandProperty Id\n",
    "if (-not $ids) {\n",
    "    Write-Host \"Learning - No IDs found.\"\n",
    "    return\n",
    "} \n",
    "$ids | ForEach-Object { [PSCustomObject]@{ Id = $_ } } | Export-Csv -Path Purge\\Learning.csv -NoTypeInformation\n",
    "sf data delete bulk --sobject \"Learning\" --file Purge\\Learning.csv --target-org $target --json --wait 15 | Out-File -FilePath Purge\\DeletedLearning.json -Encoding UTF8\n"
   ]
  },
  {
   "cell_type": "code",
   "execution_count": null,
   "metadata": {},
   "outputs": [],
   "source": [
    "\n",
    "#Delete Address\n",
    "\n",
    "sf data query -q \"select ID FROM Address where ParentId in (select ID from Location where Provider__c='$insAccountID')\" --target-org $target --json | Out-File -FilePath Purge\\Address.json -Encoding UTF8\n",
    "$records = Get-Content -Raw -Path Purge\\Address.json | ConvertFrom-Json\n",
    "$ids = $records.result.records  | Select-Object -ExpandProperty Id\n",
    "if (-not $ids) {\n",
    "    Write-Host \"Address - No IDs found.\"\n",
    "    return\n",
    "} \n",
    "$ids | ForEach-Object { [PSCustomObject]@{ Id = $_ } } | Export-Csv -Path Purge\\Address.csv -NoTypeInformation\n",
    "sf data delete bulk --sobject \"Address\" --file Purge\\Address.csv --target-org $target --json --wait 15 | Out-File -FilePath Purge\\DeletedAddress.json -Encoding UTF8\n"
   ]
  },
  {
   "cell_type": "code",
   "execution_count": null,
   "metadata": {},
   "outputs": [],
   "source": [
    "#Delete Location\n",
    "\n",
    "sf data query -q \"select ID FROM Location where Provider__c='$insAccountID'\" --target-org $target --json | Out-File -FilePath Purge\\Location.json -Encoding UTF8\n",
    "$records = Get-Content -Raw -Path Purge\\Location.json | ConvertFrom-Json\n",
    "$ids = $records.result.records  | Select-Object -ExpandProperty Id\n",
    "if (-not $ids) {\n",
    "    Write-Host \"Location - No IDs found.\"\n",
    "    return\n",
    "} \n",
    "$ids | ForEach-Object { [PSCustomObject]@{ Id = $_ } } | Export-Csv -Path Purge\\Location.csv -NoTypeInformation\n",
    "sf data delete bulk --sobject \"Location\" --file Purge\\Location.csv --target-org $target --json --wait 15 | Out-File -FilePath Purge\\DeletedLocation.json -Encoding UTF8\n"
   ]
  },
  {
   "cell_type": "code",
   "execution_count": null,
   "metadata": {},
   "outputs": [
    {
     "name": "stdout",
     "output_type": "stream",
     "text": [
      " »   Warning: @salesforce/cli update available from 2.82.6 to 2.84.6.\n",
      " »   Warning: @salesforce/cli update available from 2.82.6 to 2.84.6.\n",
      " »   Warning: @salesforce/cli update available from 2.82.6 to 2.84.6.\n",
      " »   Warning: @salesforce/cli update available from 2.82.6 to 2.84.6.\n",
      " »   Warning: @salesforce/cli update available from 2.82.6 to 2.84.6.\n",
      " »   Warning: @salesforce/cli update available from 2.82.6 to 2.84.6.\n"
     ]
    }
   ],
   "source": [
    "# #Deleteing Refrence objects using Migration\\results folder  \n",
    "# @(\n",
    "#      \"ProgramTermApplnTimeline\",\n",
    "#      \"AcademicTerm\",\n",
    "#      \"LearningProgram\",\n",
    "#       \"Learning\",\n",
    "#       \"Address\",\n",
    "#       \"Location\"\n",
    "#      ) | ForEach-Object {\n",
    "# $records = Get-Content -Raw -Path results\\$($_).json | ConvertFrom-Json\n",
    "# $ids = $records.result.records.successfulResults  | Select-Object -ExpandProperty sf__Id\n",
    "# #sf__Id\n",
    "# $ids | ForEach-Object { [PSCustomObject]@{ Id = $_ } } | Export-Csv -Path Purge\\$s$($_).csv -NoTypeInformation\n",
    "# sf data delete bulk --sobject $($_) --file Purge\\$($_).csv --target-org $target --json --wait 15 | Out-File -FilePath Purge\\$($_).json -Encoding UTF8\n",
    "# }"
   ]
  },
  {
   "cell_type": "code",
   "execution_count": 21,
   "metadata": {},
   "outputs": [
    {
     "name": "stdout",
     "output_type": "stream",
     "text": [
      " »   Warning: @salesforce/cli update available from 2.82.6 to 2.84.6.\n",
      " »   Warning: @salesforce/cli update available from 2.82.6 to 2.84.6.\n"
     ]
    }
   ],
   "source": [
    "#Delete Account \n",
    "$predicate = \" School__c='$institution'\"\n",
    "sf data query -q \"SELECT Id FROM Account WHERE $predicate\" --target-org $target --json | Out-File -FilePath Purge\\Account.json -Encoding UTF8\n",
    "$records = Get-Content -Raw -Path Purge\\Account.json | ConvertFrom-Json\n",
    "$ids = $records.result.records  | Select-Object -ExpandProperty Id\n",
    "if (-not $ids) {\n",
    "    Write-Host \"Account - No IDs found.\"\n",
    "    return\n",
    "} \n",
    "$ids | ForEach-Object { [PSCustomObject]@{ Id = $_ } } | Export-Csv -Path Purge\\Account.csv -NoTypeInformation\n",
    "sf data delete bulk --sobject \"Account\" --file Purge\\Account.csv --target-org $target --json --wait 15 | Out-File -FilePath Purge\\DeletedAccount.json -Encoding UTF8"
   ]
  },
  {
   "cell_type": "code",
   "execution_count": null,
   "metadata": {},
   "outputs": [],
   "source": [
    "\n",
    "#  #Deleteing  objects using bindings\n",
    "# @(\n",
    "# #\"Event\", \n",
    "#     #\"Task\", \n",
    "#     #\"Scholarship_Award__c\", \n",
    "#     #\"Opportunity\", \n",
    "#     #\"IndividualApplication\",\n",
    "#     #\"Scholarship__c\", \n",
    "#     \"ProgramTermApplnTimeline\",\n",
    "#     \"AcademicTerm\",\n",
    "#     \"LearningProgram\",\n",
    "#     \"Learning\",\n",
    "#     \"Location\"# delete location and address \n",
    "#      ) | ForEach-Object {\n",
    "# $records = Get-Content -Raw -Path Purge\\bindings.json | ConvertFrom-Json\n",
    "#  $ids = $records.$($_)  | Select-Object -ExpandProperty TargetId\n",
    "#  if ($ids.totalSize -eq 0) {\n",
    "#      return\n",
    "#  }\n",
    "\n",
    "# $ids | ForEach-Object { [PSCustomObject]@{ Id = $_ } } | Export-Csv -Path Purge\\$s$($_).csv -NoTypeInformation\n",
    "# # sf data delete bulk --sobject $($_) --file Purge\\$($_).csv --target-org $target --json --wait 15 | Out-File -FilePath Purge\\$($_).json -Encoding UTF8\n",
    "#  }\n"
   ]
  },
  {
   "cell_type": "code",
   "execution_count": null,
   "metadata": {},
   "outputs": [],
   "source": [
    "# Clean up\n",
    "Remove-Item -Path Purge -Recurse -Force"
   ]
  }
 ],
 "metadata": {
  "kernelspec": {
   "display_name": "PowerShell",
   "language": "powershell",
   "name": "powershell"
  },
  "language_info": {
   "codemirror_mode": "shell",
   "file_extension": ".ps1",
   "mimetype": "text/x-sh",
   "name": "powershell"
  }
 },
 "nbformat": 4,
 "nbformat_minor": 2
}
