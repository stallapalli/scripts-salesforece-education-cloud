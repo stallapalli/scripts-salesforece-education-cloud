{
 "cells": [
  {
   "cell_type": "code",
   "execution_count": 1,
   "metadata": {},
   "outputs": [
    {
     "name": "stdout",
     "output_type": "stream",
     "text": [
      "\n",
      "    Directory: C:\\Users\\Nick\\Projects\\TheCommunitySolution\\DataMigration\n",
      "\n",
      "\u001b[32;1mMode   \u001b[0m\u001b[32;1m              LastWriteTime\u001b[0m \u001b[32;1;3m        Length\u001b[0m\u001b[32;1m Name\u001b[0m\n",
      "\u001b[32;1m----   \u001b[0m \u001b[32;1m             -------------\u001b[0m \u001b[32;1m        ------\u001b[0m \u001b[32;1m----\u001b[0m\n",
      "d----           3/24/2025  9:47 PM                \u001b[44;1mPurge\u001b[0m\n",
      "\n"
     ]
    }
   ],
   "source": [
    "$target = 'TCSValidate'\n",
    "New-Item -Path Purge -Type Directory"
   ]
  },
  {
   "cell_type": "markdown",
   "metadata": {},
   "source": [
    "### Record Purge\n",
    "\n",
    "Purges records from the target instance, in opposite order of the dependency tree.\n",
    "Indiscremenately purges all records of the specified type, regardless of the state of the record.\n",
    "\n",
    "#### SObjects\n",
    "- Account\n",
    "- Location\n",
    "- Address\n",
    "- Learning\n",
    "- LearningProgram\n",
    "- Academic Term\n",
    "- ProgramTermApplnTimeline\n",
    "- Scholarship__c\n",
    "- IndividualApplication\n",
    "- Opportunity\n",
    "- Scholarship_Award__c\n",
    "- Task\n",
    "- Event"
   ]
  },
  {
   "cell_type": "code",
   "execution_count": null,
   "metadata": {},
   "outputs": [
    {
     "name": "stdout",
     "output_type": "stream",
     "text": []
    }
   ],
   "source": [
    "@(\n",
    "    #\"Event\", \n",
    "    #\"Task\", \n",
    "    #\"Scholarship_Award__c\", \n",
    "    \"Opportunity\", \n",
    "    \"IndividualApplication\"\n",
    "    \"Scholarship__c\", \n",
    "    \"ProgramTermApplnTimeline\",\n",
    "    \"AcademicTerm\",\n",
    "    \"LearningProgram\",\n",
    "    \"Learning\",\n",
    "    \"Address\",\n",
    "    \"Location\",\n",
    "    \"Account\"\n",
    ") | ForEach-Object {\n",
    "    $result = sf data query -q \"SELECT Id FROM $($_)\" -o $target --json |\n",
    "    ConvertFrom-Json | \n",
    "    Select-Object -ExpandProperty Result\n",
    "\n",
    "    if ($result.totalSize -eq 0) {\n",
    "        return\n",
    "    }\n",
    "\n",
    "    $result.records | Select-Object -Property Id | Export-Csv -Path \"Purge\\$($_).csv\" -NoTypeInformation -Encoding UTF8\n",
    "}\n",
    "\n",
    "Get-ChildItem -Path Purge | Sort-Object -Property CreationTime | ForEach-Object {\n",
    "    $sobject = $_.Name -replace '.csv', ''\n",
    "    sf data delete bulk --file $_.FullName --sobject $sobject --target-org $target --json --wait 15 | Out-File -FilePath Purge\\$sobject.json -Encoding UTF8\n",
    "}"
   ]
  },
  {
   "cell_type": "code",
   "execution_count": 3,
   "metadata": {},
   "outputs": [
    {
     "name": "stdout",
     "output_type": "stream",
     "text": []
    }
   ],
   "source": [
    "# Clean up\n",
    "Remove-Item -Path Purge -Recurse -Force"
   ]
  }
 ],
 "metadata": {
  "kernelspec": {
   "display_name": "PowerShell",
   "language": "powershell",
   "name": "powershell"
  },
  "language_info": {
   "codemirror_mode": "shell",
   "file_extension": ".ps1",
   "mimetype": "text/x-sh",
   "name": "powershell"
  }
 },
 "nbformat": 4,
 "nbformat_minor": 2
}
